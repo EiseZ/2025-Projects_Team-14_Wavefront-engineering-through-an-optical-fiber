{
 "cells": [
  {
   "cell_type": "markdown",
   "id": "56e54ffa",
   "metadata": {
    "vscode": {
     "languageId": "plaintext"
    }
   },
   "source": [
    "1. how does a lens change direction or size of light? a lens with 2 refracting surfaces, such that the refractive index inside the lens does not equal the refractive index of air will bend light. We can see this in snell's law $ \\frac{n_1}{n_2}=\\frac{\\sin{\\theta_1}}{\\sin{\\theta_2}}$. Light will travel a diffrent angel inside of the medium as will the wavelenght of light change inside of the medium, We can take this further, supose we have 2 parralel refractive surfaces. The light coming out of the medium will be shifted some distance away in comparison light traveling through air, but the light will also have had a phase shift. Lenses not only have parrarel surfaces but bend surfaces like parabaloids or an elipsoids. This way we can focus light or dispers light depending on the shape and reflective index.\n",
    "\n"
   ]
  },
  {
   "cell_type": "markdown",
   "id": "7aa105d1",
   "metadata": {
    "vscode": {
     "languageId": "plaintext"
    }
   },
   "source": [
    "2. In our case they are used to manage the light (making it bigger or smaller) such that, it can be polerized or focused into some point (the optical fiber cable)."
   ]
  },
  {
   "cell_type": "markdown",
   "id": "4d749a08",
   "metadata": {},
   "source": [
    "3. As explained before in the first question of this section we can bend light with diffrent kinds a shaped lenses. We can also magnify in the sense that we place a lens some distance away from the focal point of the first lens."
   ]
  }
 ],
 "metadata": {
  "language_info": {
   "name": "python"
  }
 },
 "nbformat": 4,
 "nbformat_minor": 5
}
